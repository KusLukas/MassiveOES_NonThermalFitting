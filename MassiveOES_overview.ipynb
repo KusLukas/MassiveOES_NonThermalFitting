{
 "cells": [
  {
   "cell_type": "code",
   "execution_count": 1,
   "id": "8274373d",
   "metadata": {},
   "outputs": [
    {
     "name": "stderr",
     "output_type": "stream",
     "text": [
      "C:\\Users\\kusyl\\AppData\\Local\\Temp\\ipykernel_16616\\3178636085.py:5: DeprecationWarning: Please use `gaussian_filter1d` from the `scipy.ndimage` namespace, the `scipy.ndimage.filters` namespace is deprecated.\n",
      "  from scipy.ndimage.filters import gaussian_filter1d\n"
     ]
    }
   ],
   "source": [
    "import massiveOES\n",
    "# import piUtils\n",
    "import matplotlib.pyplot as plt\n",
    "import numpy as np\n",
    "from scipy.ndimage.filters import gaussian_filter1d\n",
    "import scipy.optimize\n",
    "from scipy.constants import physical_constants, h, c\n",
    "from collections import OrderedDict\n",
    "# import sys\n",
    "from PIL import Image\n",
    "# sys.path.append(r'c:\\users\\lukas\\envs\\py38\\lib\\site-packages')\n",
    "\n",
    "%matplotlib qt5"
   ]
  },
  {
   "cell_type": "code",
   "execution_count": 2,
   "id": "5dae9ab1",
   "metadata": {},
   "outputs": [],
   "source": [
    "def read_tif(path):\n",
    "    \"\"\"\n",
    "    path - Path to the multipage-tiff file-actually works, dont forget to properly save it\n",
    "    \"\"\"\n",
    "    img = Image.open(path)\n",
    "    images = []\n",
    "    for i in range(img.n_frames):\n",
    "        img.seek(i)\n",
    "        images.append(np.array(img))\n",
    "    return images"
   ]
  },
  {
   "cell_type": "markdown",
   "id": "3fa76eae",
   "metadata": {},
   "source": [
    "# Loading data"
   ]
  },
  {
   "cell_type": "code",
   "execution_count": 13,
   "id": "16baf0dc",
   "metadata": {},
   "outputs": [],
   "source": [
    "main_path=r\"C:\\work\\Eindhoven_stuff\\new_files_from_siebe\\OES\\Pressure - All 5ns step\"\n",
    "file_path=main_path+\"\\\\\"+r\"4Abel_N2_66mbar_10kV2021-05-13_13-19-07.tif\""
   ]
  },
  {
   "cell_type": "code",
   "execution_count": 22,
   "id": "a179a8ea",
   "metadata": {},
   "outputs": [],
   "source": [
    "data=read_tif(file_path) #tiff reader if the spectra has multiple frames\n",
    "data=np.array(data,dtype='float') #change format for massiveOES data compatibility\n",
    "measured_spectrum=data[4,:,:] # select here which measured frame to process, if you want process all them just put everythin after data loading in for cycle or contact me, i have the scripts for that"
   ]
  },
  {
   "cell_type": "code",
   "execution_count": 23,
   "id": "1e97ff6f",
   "metadata": {},
   "outputs": [
    {
     "data": {
      "text/plain": [
       "<matplotlib.image.AxesImage at 0x13a28b57fd0>"
      ]
     },
     "execution_count": 23,
     "metadata": {},
     "output_type": "execute_result"
    }
   ],
   "source": [
    "plt.imshow(measured_spectrum)"
   ]
  },
  {
   "cell_type": "markdown",
   "id": "2810d389",
   "metadata": {},
   "source": [
    "# Reformating to json"
   ]
  },
  {
   "cell_type": "code",
   "execution_count": 60,
   "id": "77f35e78",
   "metadata": {},
   "outputs": [],
   "source": [
    "\"\"\"\n",
    "In the first step you usually dont know a,b,c,g,l parameters, in that case you wont use create_fit_parameters method.\n",
    "You take saved json, put it into massiveOES gui, linearize your axis and obtain aprroximate parameters and input them here,\n",
    "so you dont have to do it again for another similar measurements.\n",
    "\"\"\"\n",
    "\n",
    "g = 0.15238531491398544 #gauss width\n",
    "l = 0.00889666100852235 #lorentz width\n",
    "# y=c*x^2+b*x+a, for linearization of wavelength axis, not necessery to define c,b,a,g or l, it just makes life easier later on\n",
    "c=385.8911621719568 #start of spectrum\n",
    "b=0.05394349170652613# #wavelength step\n",
    "a=1.4426996684765126e-06 #non linear component, quadratic\n",
    "\n",
    "\n",
    "spectra=OrderedDict() #this is ordered dictionary in which we will put our measured spectra\n",
    "\n",
    "measured_massive = massiveOES.MeasuredSpectra()   #define massiveOES object\n",
    "\n",
    "\n",
    "for row in range(measured_spectrum.shape[0]): \n",
    "    spectra[row] = {'spectrum':measured_spectrum[row,:]} #create muptiple rows which correspond to spatial dimension of spectrum and input data there\n",
    "\n",
    "\n",
    "\n",
    "    \n",
    "measured_massive.spectra = spectra #acces spectra object and input there our measured data\n",
    "\n",
    "\n",
    "measured_massive.create_fit_parameters(wavelengths=[c, b, a], slitf_gauss=g, slitf_lorentz=l) #put our fitting parameters to massiveOES object\n",
    "measured_massive.to_json(r'measured_massive_test.json') #save massiveOES object\n"
   ]
  },
  {
   "cell_type": "markdown",
   "id": "d1498aa5",
   "metadata": {},
   "source": [
    "# Load json file"
   ]
  },
  {
   "cell_type": "code",
   "execution_count": 3,
   "id": "e030d551",
   "metadata": {},
   "outputs": [],
   "source": [
    "json_data = massiveOES.MeasuredSpectra.from_json(r'measured_massive_test.json')"
   ]
  },
  {
   "cell_type": "code",
   "execution_count": 4,
   "id": "0e948b7b",
   "metadata": {},
   "outputs": [],
   "source": [
    "specname=\"100\""
   ]
  },
  {
   "cell_type": "code",
   "execution_count": 5,
   "id": "77ab4ca4",
   "metadata": {},
   "outputs": [],
   "source": [
    "data_parameters=json_data.spectra[specname]['params'] #an example of obtaining fitting parameters\n",
    "# sim_spec=MeasuredSpectra.get_simulated_spec(data,'15') #this is how you get simulated and measured spectra\n",
    "# meas_spec=MeasuredSpectra.get_measured_spectrum(data,'15') #doesnt work, if the json dont have fitted data!"
   ]
  },
  {
   "cell_type": "code",
   "execution_count": 95,
   "id": "9281971a",
   "metadata": {},
   "outputs": [
    {
     "data": {
      "text/plain": [
       "OrderedDict([('species', ['N2CB', 'N2PlusBX'])])"
      ]
     },
     "execution_count": 95,
     "metadata": {},
     "output_type": "execute_result"
    }
   ],
   "source": [
    "data_parameters.info"
   ]
  },
  {
   "cell_type": "code",
   "execution_count": 104,
   "id": "98d4c18b",
   "metadata": {},
   "outputs": [
    {
     "data": {
      "text/html": [
       "<table><tr><th> name </th><th> value </th><th> standard error </th><th> relative error </th><th> initial value </th><th> min </th><th> max </th><th> vary </th></tr><tr><td> wav_start </td><td>  385.894479 </td><td>  0.00216002 </td><td> (0.00%) </td><td> 385.8944788834747 </td><td>        -inf </td><td>         inf </td><td> True </td></tr><tr><td> wav_step </td><td>  0.05394349 </td><td>  0.00000000 </td><td> (0.00%) </td><td> 0.05394349170652613 </td><td>        -inf </td><td>         inf </td><td> False </td></tr><tr><td> wav_2nd </td><td>  1.4427e-06 </td><td>  0.00000000 </td><td> (0.00%) </td><td> 1.4426996684765126e-06 </td><td>        -inf </td><td>         inf </td><td> False </td></tr><tr><td> slitf_gauss </td><td>  0.15238531 </td><td>  0.00000000 </td><td> (0.00%) </td><td> 0.15238531491398544 </td><td>        -inf </td><td>         inf </td><td> False </td></tr><tr><td> slitf_lorentz </td><td>  0.00889666 </td><td>  0.00000000 </td><td> (0.00%) </td><td> 0.00889666100852235 </td><td>        -inf </td><td>         inf </td><td> False </td></tr><tr><td> baseline </td><td>  0.00000000 </td><td>  0.00000000 </td><td>  </td><td> 0 </td><td>        -inf </td><td>         inf </td><td> False </td></tr><tr><td> baseline_slope </td><td>  0.00000000 </td><td>  0.00000000 </td><td>  </td><td> 0 </td><td>        -inf </td><td>         inf </td><td> False </td></tr><tr><td> N2CB_Trot </td><td>  410.014352 </td><td>  8.19908490 </td><td> (2.00%) </td><td> 410.014351925303 </td><td>  300.000000 </td><td>  10000.0000 </td><td> True </td></tr><tr><td> N2CB_Tvib </td><td>  1814.10403 </td><td>  23.9481710 </td><td> (1.32%) </td><td> 1814.1040341444634 </td><td>  300.000000 </td><td>  10000.0000 </td><td> True </td></tr><tr><td> N2CB_intensity </td><td>  0.77289675 </td><td>  0.01430518 </td><td> (1.85%) </td><td> 0.7728967483067428 </td><td>  0.00000000 </td><td>         inf </td><td> True </td></tr><tr><td> N2PlusBX_Trot </td><td>  6797.79153 </td><td>  21510.3664 </td><td> (316.43%) </td><td> 6797.791527610286 </td><td>  300.000000 </td><td>  10000.0000 </td><td> True </td></tr><tr><td> N2PlusBX_Tvib </td><td>  611.988675 </td><td>  82605.7757 </td><td> (13497.93%) </td><td> 611.9886751508427 </td><td>  300.000000 </td><td>  10000.0000 </td><td> True </td></tr><tr><td> N2PlusBX_intensity </td><td>  9.9548e-04 </td><td>  0.00437344 </td><td> (439.33%) </td><td> 0.0009954813644170724 </td><td>  0.00000000 </td><td>         inf </td><td> True </td></tr></table>"
      ],
      "text/plain": [
       "Parameters([('wav_start', <Parameter 'wav_start', value=385.8944788834747 +/- 0.00216, bounds=[-inf:inf]>), ('wav_step', <Parameter 'wav_step', value=0.05394349170652613 (fixed), bounds=[-inf:inf]>), ('wav_2nd', <Parameter 'wav_2nd', value=1.4426996684765126e-06 (fixed), bounds=[-inf:inf]>), ('slitf_gauss', <Parameter 'slitf_gauss', value=0.15238531491398544 (fixed), bounds=[-inf:inf]>), ('slitf_lorentz', <Parameter 'slitf_lorentz', value=0.00889666100852235 (fixed), bounds=[-inf:inf]>), ('baseline', <Parameter 'baseline', value=0 (fixed), bounds=[-inf:inf]>), ('baseline_slope', <Parameter 'baseline_slope', value=0 (fixed), bounds=[-inf:inf]>), ('N2CB_Trot', <Parameter 'N2CB_Trot', value=410.014351925303 +/- 8.2, bounds=[300:10000]>), ('N2CB_Tvib', <Parameter 'N2CB_Tvib', value=1814.1040341444634 +/- 23.9, bounds=[300:10000]>), ('N2CB_intensity', <Parameter 'N2CB_intensity', value=0.7728967483067428 +/- 0.0143, bounds=[0:inf]>), ('N2PlusBX_Trot', <Parameter 'N2PlusBX_Trot', value=6797.791527610286 +/- 2.15e+04, bounds=[300:10000]>), ('N2PlusBX_Tvib', <Parameter 'N2PlusBX_Tvib', value=611.9886751508427 +/- 8.26e+04, bounds=[300:10000]>), ('N2PlusBX_intensity', <Parameter 'N2PlusBX_intensity', value=0.0009954813644170724 +/- 0.00437, bounds=[0:inf]>)])"
      ]
     },
     "execution_count": 104,
     "metadata": {},
     "output_type": "execute_result"
    }
   ],
   "source": [
    "data_parameters.prms"
   ]
  },
  {
   "cell_type": "markdown",
   "id": "14e65d2b",
   "metadata": {},
   "source": [
    "# Load Databases"
   ]
  },
  {
   "cell_type": "code",
   "execution_count": 97,
   "id": "20f42739",
   "metadata": {},
   "outputs": [
    {
     "data": {
      "text/plain": [
       "'\\nNote that if you have loaded json in which you have already added databases for example in gue, they are still there, \\nand no further database addition is needed. Put it wont matter if you add the same ones.\\n\\nAnother import point is that if you duplicate your database for example duplicate N2CB.db as N2CB_copy.db and load both of them\\nit is an easy approach of how to do two temperature fitting which is in a lot of cases better than non-eq fitting.\\n'"
      ]
     },
     "execution_count": 97,
     "metadata": {},
     "output_type": "execute_result"
    }
   ],
   "source": [
    "\"\"\"\n",
    "Note that if you have loaded json in which you have already added databases for example in gue, they are still there, \n",
    "and no further database addition is needed. Put it wont matter if you add the same ones.\n",
    "\n",
    "Another import point is that if you duplicate your database for example duplicate N2CB.db as N2CB_copy.db and load both of them\n",
    "it is an easy approach of how to do two temperature fitting which is in a lot of cases better than non-eq fitting.\n",
    "\"\"\""
   ]
  },
  {
   "cell_type": "code",
   "execution_count": 98,
   "id": "33891ea2",
   "metadata": {},
   "outputs": [
    {
     "name": "stderr",
     "output_type": "stream",
     "text": [
      "c:\\work\\massiveoes\\massiveOES\\MeasuredSpectra.py:109: Warning: Specie 'N2CB' not added: Invalid name or already added! See lmfit.Parameters for details.\n",
      "  warnings.warn(msg,Warning)\n",
      "c:\\work\\massiveoes\\massiveOES\\MeasuredSpectra.py:109: Warning: Specie 'N2PlusBX' not added: Invalid name or already added! See lmfit.Parameters for details.\n",
      "  warnings.warn(msg,Warning)\n"
     ]
    },
    {
     "data": {
      "text/plain": [
       "OrderedDict([('species', ['N2CB', 'N2PlusBX'])])"
      ]
     },
     "execution_count": 98,
     "metadata": {},
     "output_type": "execute_result"
    }
   ],
   "source": [
    "#add database of desired species to loaded massiveOES object\n",
    "First_specie='N2CB.db' #if you want more or less species just just another add_specie function or take one out, also the used_species array has to be adjusted, it is used in nnls fitting\n",
    "Second_specie='N2PlusBX.db'\n",
    "N2CB=massiveOES.SpecDB(First_specie)\n",
    "N2BX=massiveOES.SpecDB(Second_specie)\n",
    "data_inc_species=[]\n",
    "used_species=np.array([First_specie[:-3],Second_specie[:-3]])\n",
    "for specname in json_data.spectra:\n",
    "    json_data.add_specie(specie=N2CB,specname=specname)\n",
    "data_inc_species=[]\n",
    "for specname in json_data.spectra:\n",
    "    json_data.add_specie(specie=N2BX,specname=specname)\n",
    "json_data.spectra[specname]['params'].info"
   ]
  },
  {
   "cell_type": "markdown",
   "id": "2f735319",
   "metadata": {},
   "source": [
    "# Selection of fitting parameters"
   ]
  },
  {
   "cell_type": "code",
   "execution_count": 99,
   "id": "226e389f",
   "metadata": {},
   "outputs": [],
   "source": [
    "#what parameters do you wanna fit my lord?\n",
    "#set parameters you dont want to fit to FALSE\n",
    "for specname in json_data.spectra: #specname are the rows of spatial measurement\n",
    "    \n",
    "    json_data.spectra['{}'.format(specname)]['params'].prms['wav_start'].vary=True\n",
    "    json_data.spectra['{}'.format(specname)]['params'].prms['wav_step'].vary=False\n",
    "    json_data.spectra['{}'.format(specname)]['params'].prms['wav_2nd'].vary=False\n",
    "    json_data.spectra['{}'.format(specname)]['params'].prms['slitf_gauss'].vary=False\n",
    "    json_data.spectra['{}'.format(specname)]['params'].prms['slitf_lorentz'].vary=False\n",
    "    json_data.spectra['{}'.format(specname)]['params'].prms['baseline'].vary=False\n",
    "    json_data.spectra['{}'.format(specname)]['params'].prms['baseline_slope'].vary=False"
   ]
  },
  {
   "cell_type": "code",
   "execution_count": 101,
   "id": "0af377f8",
   "metadata": {},
   "outputs": [],
   "source": [
    "#project condition from one line to all other\n",
    "# it is usufull to speed fitting up, firstly fit one position and extrapolate their parameters to other spatial positions\n",
    "#sometimes it is better not to transfer fitted parameters from one position to others but do it oteratively\n",
    "#in that case just take these lines amd input them into fitting cycle (remember to redifine def_v properly)\n",
    "def_v=100 #position of line from which you want extrapolate fitting parameters\n",
    "for specname in json_data.spectra:\n",
    "    \n",
    "    json_data.spectra['{}'.format(specname)]['params'].prms['wav_start'].value=json_data.spectra['{}'.format(def_v)]['params'].prms['wav_start'].value\n",
    "    json_data.spectra['{}'.format(specname)]['params'].prms['wav_step'].value=json_data.spectra['{}'.format(def_v)]['params'].prms['wav_step'].value\n",
    "    json_data.spectra['{}'.format(specname)]['params'].prms['wav_2nd'].value=json_data.spectra['{}'.format(def_v)]['params'].prms['wav_2nd'].value\n",
    "    json_data.spectra['{}'.format(specname)]['params'].prms['slitf_gauss'].value=json_data.spectra['{}'.format(def_v)]['params'].prms['slitf_gauss'].value\n",
    "    json_data.spectra['{}'.format(specname)]['params'].prms['slitf_lorentz'].value=json_data.spectra['{}'.format(def_v)]['params'].prms['slitf_lorentz'].value\n",
    "    json_data.spectra['{}'.format(specname)]['params'].prms['baseline'].value=json_data.spectra['{}'.format(def_v)]['params'].prms['baseline'].value\n",
    "    json_data.spectra['{}'.format(specname)]['params'].prms['baseline_slope'].value=json_data.spectra['{}'.format(def_v)]['params'].prms['baseline_slope'].value"
   ]
  },
  {
   "cell_type": "markdown",
   "id": "0a97c7ed",
   "metadata": {},
   "source": [
    "# Thermal fitting and seperation fo FNS and SPS components"
   ]
  },
  {
   "cell_type": "code",
   "execution_count": 103,
   "id": "cc1fcbd6",
   "metadata": {},
   "outputs": [
    {
     "name": "stdout",
     "output_type": "stream",
     "text": [
      "********* specname =  100  ************\n"
     ]
    },
    {
     "data": {
      "text/plain": [
       "<matplotlib.legend.Legend at 0x2037881bfd0>"
      ]
     },
     "execution_count": 103,
     "metadata": {},
     "output_type": "execute_result"
    }
   ],
   "source": [
    "# check how current parameters influence fit\n",
    "#this is simple thermal fit of one spatial position\n",
    "fit_check=json_data.fit(\"100\",maxiter=1000)#default maxiter if not defined is 2000\n",
    "sim_spec_check=massiveOES.MeasuredSpectra.get_simulated_spec(json_data,'100') #this is how you get simulated and measured spectra\n",
    "meas_spec_check=massiveOES.MeasuredSpectra.get_measured_spectrum(json_data,'100') \n",
    "plt.plot(meas_spec_check.x,meas_spec_check.y,\".\",label=\"Measurement\") #plotting of measurement and simulation, simple .fit function is suficient here\n",
    "plt.plot(sim_spec_check.x,sim_spec_check.y,\"-\",label=\"Simulation\")\n",
    "plt.legend()"
   ]
  },
  {
   "cell_type": "code",
   "execution_count": 81,
   "id": "2b38691a",
   "metadata": {},
   "outputs": [
    {
     "name": "stdout",
     "output_type": "stream",
     "text": [
      "********* specname =  98  ************\n"
     ]
    },
    {
     "name": "stderr",
     "output_type": "stream",
     "text": [
      "c:\\users\\kusyl\\envs\\massive\\lib\\site-packages\\lmfit\\minimizer.py:493: RuntimeWarning: ignoring `maxfev` argument to `Minimizer()`. Use `max_nfev` instead.\n",
      "  warnings.warn(maxeval_warning.format(maxnfev_alias, 'Minimizer'),\n"
     ]
    },
    {
     "name": "stdout",
     "output_type": "stream",
     "text": [
      "********* specname =  99  ************\n",
      "********* specname =  100  ************\n",
      "********* specname =  101  ************\n",
      "********* specname =  102  ************\n"
     ]
    }
   ],
   "source": [
    "#seperate fits for two fiting species, here for sps and fns\n",
    "# if you dont want seperation, just .fit(spcname,maxfv=xxx) is fine, maxfv is number of max number of iterations\n",
    "set_of_prms_fns_spectra_x={}\n",
    "set_of_prms_sps_spectra_x={}\n",
    "set_of_prms_fns_spectra_y={}\n",
    "set_of_prms_sps_spectra_y={}\n",
    "prms_array_fns=[]\n",
    "prms_array_sps=[]\n",
    "for specname in json_data.spectra:\n",
    "    if int(specname)<98 or int(specname)>102:\n",
    "        continue\n",
    "    fit=json_data.fit(specname,maxiter=1000)\n",
    "    temp=json_data.spectra['{}'.format(specname)]['params'].prms['N2CB_intensity'].value\n",
    "    json_data.spectra['{}'.format(specname)]['params'].prms['N2CB_intensity'].value=0\n",
    "    temp_spec_x=massiveOES.MeasuredSpectra.get_simulated_spec(json_data,specname).x\n",
    "    temp_spec_y=massiveOES.MeasuredSpectra.get_simulated_spec(json_data,specname).y\n",
    "    set_of_prms_fns_spectra_x[specname]=temp_spec_x\n",
    "    set_of_prms_fns_spectra_y[specname]=temp_spec_y\n",
    "    prms_array_fns.append(json_data.spectra['{}'.format(specname)]['params'])\n",
    "    json_data.spectra['{}'.format(specname)]['params'].prms['N2CB_intensity'].value=temp\n",
    "\n",
    "    temp=json_data.spectra['{}'.format(specname)]['params'].prms['N2PlusBX_intensity'].value\n",
    "    json_data.spectra['{}'.format(specname)]['params'].prms['N2PlusBX_intensity'].value=0\n",
    "    temp_spec_x=massiveOES.MeasuredSpectra.get_simulated_spec(json_data,specname).x\n",
    "    temp_spec_y=massiveOES.MeasuredSpectra.get_simulated_spec(json_data,specname).y\n",
    "    set_of_prms_sps_spectra_x[specname]=temp_spec_x\n",
    "    set_of_prms_sps_spectra_y[specname]=temp_spec_y\n",
    "    prms_array_sps.append(json_data.spectra['{}'.format(specname)]['params'])   \n",
    "    json_data.spectra['{}'.format(specname)]['params'].prms['N2PlusBX_intensity'].value=temp"
   ]
  },
  {
   "cell_type": "code",
   "execution_count": 82,
   "id": "20e03bec",
   "metadata": {},
   "outputs": [
    {
     "data": {
      "text/html": [
       "<table><tr><th> name </th><th> value </th><th> initial value </th><th> min </th><th> max </th><th> vary </th></tr><tr><td> wav_start </td><td>  385.891162 </td><td> 385.8911621719568 </td><td>        -inf </td><td>         inf </td><td> True </td></tr><tr><td> wav_step </td><td>  0.05394349 </td><td> 0.05394349170652613 </td><td>        -inf </td><td>         inf </td><td> False </td></tr><tr><td> wav_2nd </td><td>  1.4427e-06 </td><td> 1.4426996684765126e-06 </td><td>        -inf </td><td>         inf </td><td> False </td></tr><tr><td> slitf_gauss </td><td>  0.15238531 </td><td> 0.15238531491398544 </td><td>        -inf </td><td>         inf </td><td> False </td></tr><tr><td> slitf_lorentz </td><td>  0.00889666 </td><td> 0.00889666100852235 </td><td>        -inf </td><td>         inf </td><td> False </td></tr><tr><td> baseline </td><td>  0.00000000 </td><td> 0 </td><td>        -inf </td><td>         inf </td><td> False </td></tr><tr><td> baseline_slope </td><td>  0.00000000 </td><td> 0 </td><td>        -inf </td><td>         inf </td><td> False </td></tr><tr><td> N2CB_Trot </td><td>  1000.00000 </td><td> 1000.0 </td><td>  300.000000 </td><td>  10000.0000 </td><td> True </td></tr><tr><td> N2CB_Tvib </td><td>  1000.00000 </td><td> 1000.0 </td><td>  300.000000 </td><td>  10000.0000 </td><td> True </td></tr><tr><td> N2CB_intensity </td><td>  1.00000000 </td><td> 1 </td><td>  0.00000000 </td><td>         inf </td><td> True </td></tr><tr><td> N2PlusBX_Trot </td><td>  1000.00000 </td><td> 1000.0 </td><td>  300.000000 </td><td>  10000.0000 </td><td> True </td></tr><tr><td> N2PlusBX_Tvib </td><td>  1000.00000 </td><td> 1000.0 </td><td>  300.000000 </td><td>  10000.0000 </td><td> True </td></tr><tr><td> N2PlusBX_intensity </td><td>  1.00000000 </td><td> 1 </td><td>  0.00000000 </td><td>         inf </td><td> True </td></tr></table>"
      ],
      "text/plain": [
       "Parameters([('wav_start', <Parameter 'wav_start', value=385.8911621719568, bounds=[-inf:inf]>), ('wav_step', <Parameter 'wav_step', value=0.05394349170652613 (fixed), bounds=[-inf:inf]>), ('wav_2nd', <Parameter 'wav_2nd', value=1.4426996684765126e-06 (fixed), bounds=[-inf:inf]>), ('slitf_gauss', <Parameter 'slitf_gauss', value=0.15238531491398544 (fixed), bounds=[-inf:inf]>), ('slitf_lorentz', <Parameter 'slitf_lorentz', value=0.00889666100852235 (fixed), bounds=[-inf:inf]>), ('baseline', <Parameter 'baseline', value=0 (fixed), bounds=[-inf:inf]>), ('baseline_slope', <Parameter 'baseline_slope', value=0 (fixed), bounds=[-inf:inf]>), ('N2CB_Trot', <Parameter 'N2CB_Trot', value=1000.0, bounds=[300:10000]>), ('N2CB_Tvib', <Parameter 'N2CB_Tvib', value=1000.0, bounds=[300:10000]>), ('N2CB_intensity', <Parameter 'N2CB_intensity', value=1, bounds=[0:inf]>), ('N2PlusBX_Trot', <Parameter 'N2PlusBX_Trot', value=1000.0, bounds=[300:10000]>), ('N2PlusBX_Tvib', <Parameter 'N2PlusBX_Tvib', value=1000.0, bounds=[300:10000]>), ('N2PlusBX_intensity', <Parameter 'N2PlusBX_intensity', value=1, bounds=[0:inf]>)])"
      ]
     },
     "execution_count": 82,
     "metadata": {},
     "output_type": "execute_result"
    }
   ],
   "source": [
    "json_data.spectra['{}'.format(specname)]['params'].prms # here you can see resulting fitting parameters and temperatures\n",
    "# various info can be also found in print(fit)"
   ]
  },
  {
   "cell_type": "code",
   "execution_count": 83,
   "id": "54a30a6e",
   "metadata": {},
   "outputs": [],
   "source": [
    "sim_spec=massiveOES.MeasuredSpectra.get_simulated_spec(json_data,'100') #this is how you get simulated and measured spectra\n",
    "meas_spec=massiveOES.MeasuredSpectra.get_measured_spectrum(json_data,'100') "
   ]
  },
  {
   "cell_type": "code",
   "execution_count": 84,
   "id": "afc91a9f",
   "metadata": {},
   "outputs": [
    {
     "data": {
      "text/plain": [
       "<matplotlib.legend.Legend at 0x203763e1ca0>"
      ]
     },
     "execution_count": 84,
     "metadata": {},
     "output_type": "execute_result"
    }
   ],
   "source": [
    "plt.plot(meas_spec.x,meas_spec.y,\"-\",label=\"Measurement\") #plotting of measurement and simulation, simple .fit function is suficient here\n",
    "plt.plot(sim_spec.x,sim_spec.y,\".\",label=\"Simulation\")\n",
    "plt.legend()"
   ]
  },
  {
   "cell_type": "code",
   "execution_count": 89,
   "id": "365f097c",
   "metadata": {},
   "outputs": [],
   "source": [
    "spec_num=\"100\"\n",
    "\n",
    "fig, ax = plt.subplots( nrows=1, ncols=1 ) \n",
    "ax.plot(meas_spec.x, meas_spec.y,'r.', linewidth=3,label='measurement')\n",
    "ax.plot(set_of_prms_sps_spectra_x[spec_num], set_of_prms_sps_spectra_y[spec_num], 'b-',label='sps')\n",
    "ax.plot(set_of_prms_fns_spectra_x[spec_num], set_of_prms_fns_spectra_y[spec_num], 'g-',label='fns')\n",
    "#ax.plot(my_data_corr.x,(fit_array_neg[iterace]-data_corr.get_measured_spectrum(i).y)-5, color = 'k')\n",
    "#ax.set_title('Distance from electrode: {0:.4f} mm (pixel:{1})'.format(float(int(i)*imaging_factor),i))\n",
    "ax.set_xlabel('Wavelength [nm]')\n",
    "ax.set_ylabel('Relative intensity [a.u.]')\n",
    "ax.set_ylim(bottom=-12)\n",
    "plt.legend()\n",
    "plt.show()"
   ]
  },
  {
   "cell_type": "markdown",
   "id": "cdecb330",
   "metadata": {},
   "source": [
    "# Non-Thermal fit"
   ]
  },
  {
   "cell_type": "code",
   "execution_count": 7,
   "id": "831fd341",
   "metadata": {},
   "outputs": [
    {
     "data": {
      "text/plain": [
       "'\\nRequires same database loading and slection of parameters\\n'"
      ]
     },
     "execution_count": 7,
     "metadata": {},
     "output_type": "execute_result"
    }
   ],
   "source": [
    "\"\"\"\n",
    "Requires same database loading and slection of parameters\n",
    "\"\"\""
   ]
  },
  {
   "cell_type": "code",
   "execution_count": 8,
   "id": "6b84d61c",
   "metadata": {},
   "outputs": [
    {
     "data": {
      "text/plain": [
       "OrderedDict([('species', ['N2CB', 'N2PlusBX'])])"
      ]
     },
     "execution_count": 8,
     "metadata": {},
     "output_type": "execute_result"
    }
   ],
   "source": [
    "json_data.spectra[\"0\"][\"params\"].info #this is species you are fitting"
   ]
  },
  {
   "cell_type": "code",
   "execution_count": 9,
   "id": "b2df7e25",
   "metadata": {},
   "outputs": [
    {
     "data": {
      "text/plain": [
       "'\\nA dictionary of additional parameters for each fitted specie.\\nThese are:\\n\\nmax_v: *number* the maximal vibrational quantum number allowed\\n\\nmax_J: *number* the maximal rotational quantum number allowed\\n\\nminlines: *number* the minimal number of lines emitted by transition\\n           from given upper state in the observed wavelength region.\\n           This is recommended to be at least 2 to suppress the\\n           influence of noise.\\n\\nsinglet_like: *bool* if True, the spin-orbit or spin-rotational\\n              components of the upper states will not be distinguished\\n                '"
      ]
     },
     "execution_count": 9,
     "metadata": {},
     "output_type": "execute_result"
    }
   ],
   "source": [
    "\"\"\"\n",
    "A dictionary of additional parameters for each fitted specie.\n",
    "These are:\n",
    "\n",
    "max_v: *number* the maximal vibrational quantum number allowed\n",
    "\n",
    "max_J: *number* the maximal rotational quantum number allowed\n",
    "\n",
    "minlines: *number* the minimal number of lines emitted by transition\n",
    "           from given upper state in the observed wavelength region.\n",
    "           This is recommended to be at least 2 to suppress the\n",
    "           influence of noise.\n",
    "\n",
    "singlet_like: *bool* if True, the spin-orbit or spin-rotational\n",
    "              components of the upper states will not be distinguished\n",
    "                \"\"\""
   ]
  },
  {
   "cell_type": "code",
   "execution_count": 33,
   "id": "d386a144",
   "metadata": {},
   "outputs": [
    {
     "name": "stdout",
     "output_type": "stream",
     "text": [
      "98\n",
      "{'maxiter': 1, 'max_J': 30, 'max_v': 5, 'wavelength': 'air'}\n",
      "{'maxiter': 1, 'max_J': 30, 'max_v': 5, 'wavelength': 'air'}\n",
      "(301, 493)\n",
      "dof =  -192\n",
      "99\n",
      "{'maxiter': 1, 'max_J': 30, 'max_v': 5, 'wavelength': 'air'}\n",
      "{'maxiter': 1, 'max_J': 30, 'max_v': 5, 'wavelength': 'air'}\n",
      "(301, 493)\n",
      "dof =  -192\n",
      "100\n",
      "{'maxiter': 1, 'max_J': 30, 'max_v': 5, 'wavelength': 'air'}\n",
      "{'maxiter': 1, 'max_J': 30, 'max_v': 5, 'wavelength': 'air'}\n",
      "(301, 493)\n",
      "dof =  -192\n",
      "101\n",
      "{'maxiter': 1, 'max_J': 30, 'max_v': 5, 'wavelength': 'air'}\n",
      "{'maxiter': 1, 'max_J': 30, 'max_v': 5, 'wavelength': 'air'}\n",
      "(301, 493)\n",
      "dof =  -192\n",
      "102\n",
      "{'maxiter': 1, 'max_J': 30, 'max_v': 5, 'wavelength': 'air'}\n",
      "{'maxiter': 1, 'max_J': 30, 'max_v': 5, 'wavelength': 'air'}\n",
      "(301, 493)\n",
      "dof =  -192\n"
     ]
    }
   ],
   "source": [
    "frame_data={}\n",
    "frame_spectra={}\n",
    "for specname in json_data.spectra: #first position takes long, the databases are used to develop matrix in which the data are deposited\n",
    "    if int(specname)<98 or int(specname)>102:\n",
    "        continue\n",
    "    print(specname)\n",
    "    nnlsfit=json_data.fit_nnls(specname,used_species,maxiter=1,max_J=30,max_v=5) # i think maxiter doesnt work here\n",
    "    frame_data[specname]= nnlsfit[0]\n",
    "    frame_spectra[specname]= np.dot(nnlsfit[1], nnlsfit[0].pops)\n"
   ]
  },
  {
   "cell_type": "code",
   "execution_count": 37,
   "id": "86363b47",
   "metadata": {},
   "outputs": [],
   "source": [
    "meas_spec=massiveOES.MeasuredSpectra.get_measured_spectrum(json_data,'100') "
   ]
  },
  {
   "cell_type": "code",
   "execution_count": 43,
   "id": "128c8ee9",
   "metadata": {},
   "outputs": [
    {
     "data": {
      "text/plain": [
       "<matplotlib.legend.Legend at 0x2036c000b20>"
      ]
     },
     "execution_count": 43,
     "metadata": {},
     "output_type": "execute_result"
    }
   ],
   "source": [
    "specname=\"100\"\n",
    "plt.plot(meas_spec.x,meas_spec.y,\"-\",label=\"Measurement\") #plotting of measurement and simulation, simple .fit function is suficient here\n",
    "plt.plot(meas_spec.x,frame_spectra[specname],\".\",label=\"Simulation\")\n",
    "plt.legend()"
   ]
  },
  {
   "cell_type": "code",
   "execution_count": 51,
   "id": "986bd1a3",
   "metadata": {},
   "outputs": [
    {
     "data": {
      "text/html": [
       "<div>\n",
       "<style scoped>\n",
       "    .dataframe tbody tr th:only-of-type {\n",
       "        vertical-align: middle;\n",
       "    }\n",
       "\n",
       "    .dataframe tbody tr th {\n",
       "        vertical-align: top;\n",
       "    }\n",
       "\n",
       "    .dataframe thead th {\n",
       "        text-align: right;\n",
       "    }\n",
       "</style>\n",
       "<table border=\"1\" class=\"dataframe\">\n",
       "  <thead>\n",
       "    <tr style=\"text-align: right;\">\n",
       "      <th></th>\n",
       "      <th>id</th>\n",
       "      <th>E_J</th>\n",
       "      <th>J</th>\n",
       "      <th>component</th>\n",
       "      <th>E_v</th>\n",
       "      <th>v</th>\n",
       "      <th>numlines</th>\n",
       "      <th>pops</th>\n",
       "      <th>errors</th>\n",
       "      <th>specie</th>\n",
       "      <th>degeneracy</th>\n",
       "    </tr>\n",
       "  </thead>\n",
       "  <tbody>\n",
       "    <tr>\n",
       "      <th>0</th>\n",
       "      <td>57</td>\n",
       "      <td>0.000012</td>\n",
       "      <td>19.0</td>\n",
       "      <td>3</td>\n",
       "      <td>0.000456</td>\n",
       "      <td>0</td>\n",
       "      <td>1</td>\n",
       "      <td>0.000000</td>\n",
       "      <td>196.130966</td>\n",
       "      <td>N2CB</td>\n",
       "      <td>39.0</td>\n",
       "    </tr>\n",
       "    <tr>\n",
       "      <th>1</th>\n",
       "      <td>59</td>\n",
       "      <td>0.000012</td>\n",
       "      <td>20.0</td>\n",
       "      <td>2</td>\n",
       "      <td>0.000456</td>\n",
       "      <td>0</td>\n",
       "      <td>1</td>\n",
       "      <td>0.000000</td>\n",
       "      <td>1920.461032</td>\n",
       "      <td>N2CB</td>\n",
       "      <td>41.0</td>\n",
       "    </tr>\n",
       "    <tr>\n",
       "      <th>2</th>\n",
       "      <td>60</td>\n",
       "      <td>0.000014</td>\n",
       "      <td>20.0</td>\n",
       "      <td>3</td>\n",
       "      <td>0.000456</td>\n",
       "      <td>0</td>\n",
       "      <td>1</td>\n",
       "      <td>0.000000</td>\n",
       "      <td>4703.602078</td>\n",
       "      <td>N2CB</td>\n",
       "      <td>41.0</td>\n",
       "    </tr>\n",
       "    <tr>\n",
       "      <th>3</th>\n",
       "      <td>62</td>\n",
       "      <td>0.000013</td>\n",
       "      <td>21.0</td>\n",
       "      <td>2</td>\n",
       "      <td>0.000456</td>\n",
       "      <td>0</td>\n",
       "      <td>1</td>\n",
       "      <td>0.000000</td>\n",
       "      <td>2343.931613</td>\n",
       "      <td>N2CB</td>\n",
       "      <td>43.0</td>\n",
       "    </tr>\n",
       "    <tr>\n",
       "      <th>4</th>\n",
       "      <td>63</td>\n",
       "      <td>0.000015</td>\n",
       "      <td>21.0</td>\n",
       "      <td>3</td>\n",
       "      <td>0.000456</td>\n",
       "      <td>0</td>\n",
       "      <td>1</td>\n",
       "      <td>0.105854</td>\n",
       "      <td>5224.728839</td>\n",
       "      <td>N2CB</td>\n",
       "      <td>43.0</td>\n",
       "    </tr>\n",
       "    <tr>\n",
       "      <th>...</th>\n",
       "      <td>...</td>\n",
       "      <td>...</td>\n",
       "      <td>...</td>\n",
       "      <td>...</td>\n",
       "      <td>...</td>\n",
       "      <td>...</td>\n",
       "      <td>...</td>\n",
       "      <td>...</td>\n",
       "      <td>...</td>\n",
       "      <td>...</td>\n",
       "      <td>...</td>\n",
       "    </tr>\n",
       "    <tr>\n",
       "      <th>488</th>\n",
       "      <td>578</td>\n",
       "      <td>0.000025</td>\n",
       "      <td>27.5</td>\n",
       "      <td>2</td>\n",
       "      <td>0.000410</td>\n",
       "      <td>0</td>\n",
       "      <td>3</td>\n",
       "      <td>0.000000</td>\n",
       "      <td>247.381214</td>\n",
       "      <td>N2PlusBX</td>\n",
       "      <td>56.0</td>\n",
       "    </tr>\n",
       "    <tr>\n",
       "      <th>489</th>\n",
       "      <td>579</td>\n",
       "      <td>0.000027</td>\n",
       "      <td>28.5</td>\n",
       "      <td>1</td>\n",
       "      <td>0.000410</td>\n",
       "      <td>0</td>\n",
       "      <td>3</td>\n",
       "      <td>0.000000</td>\n",
       "      <td>147.657492</td>\n",
       "      <td>N2PlusBX</td>\n",
       "      <td>58.0</td>\n",
       "    </tr>\n",
       "    <tr>\n",
       "      <th>490</th>\n",
       "      <td>580</td>\n",
       "      <td>0.000027</td>\n",
       "      <td>28.5</td>\n",
       "      <td>2</td>\n",
       "      <td>0.000410</td>\n",
       "      <td>0</td>\n",
       "      <td>3</td>\n",
       "      <td>0.000000</td>\n",
       "      <td>504.455390</td>\n",
       "      <td>N2PlusBX</td>\n",
       "      <td>58.0</td>\n",
       "    </tr>\n",
       "    <tr>\n",
       "      <th>491</th>\n",
       "      <td>581</td>\n",
       "      <td>0.000029</td>\n",
       "      <td>29.5</td>\n",
       "      <td>1</td>\n",
       "      <td>0.000410</td>\n",
       "      <td>0</td>\n",
       "      <td>3</td>\n",
       "      <td>0.000000</td>\n",
       "      <td>15.896841</td>\n",
       "      <td>N2PlusBX</td>\n",
       "      <td>60.0</td>\n",
       "    </tr>\n",
       "    <tr>\n",
       "      <th>492</th>\n",
       "      <td>582</td>\n",
       "      <td>0.000029</td>\n",
       "      <td>29.5</td>\n",
       "      <td>2</td>\n",
       "      <td>0.000410</td>\n",
       "      <td>0</td>\n",
       "      <td>3</td>\n",
       "      <td>0.000000</td>\n",
       "      <td>39.792834</td>\n",
       "      <td>N2PlusBX</td>\n",
       "      <td>60.0</td>\n",
       "    </tr>\n",
       "  </tbody>\n",
       "</table>\n",
       "<p>493 rows × 11 columns</p>\n",
       "</div>"
      ],
      "text/plain": [
       "      id       E_J     J  component       E_v  v  numlines      pops  \\\n",
       "0     57  0.000012  19.0          3  0.000456  0         1  0.000000   \n",
       "1     59  0.000012  20.0          2  0.000456  0         1  0.000000   \n",
       "2     60  0.000014  20.0          3  0.000456  0         1  0.000000   \n",
       "3     62  0.000013  21.0          2  0.000456  0         1  0.000000   \n",
       "4     63  0.000015  21.0          3  0.000456  0         1  0.105854   \n",
       "..   ...       ...   ...        ...       ... ..       ...       ...   \n",
       "488  578  0.000025  27.5          2  0.000410  0         3  0.000000   \n",
       "489  579  0.000027  28.5          1  0.000410  0         3  0.000000   \n",
       "490  580  0.000027  28.5          2  0.000410  0         3  0.000000   \n",
       "491  581  0.000029  29.5          1  0.000410  0         3  0.000000   \n",
       "492  582  0.000029  29.5          2  0.000410  0         3  0.000000   \n",
       "\n",
       "          errors    specie  degeneracy  \n",
       "0     196.130966      N2CB        39.0  \n",
       "1    1920.461032      N2CB        41.0  \n",
       "2    4703.602078      N2CB        41.0  \n",
       "3    2343.931613      N2CB        43.0  \n",
       "4    5224.728839      N2CB        43.0  \n",
       "..           ...       ...         ...  \n",
       "488   247.381214  N2PlusBX        56.0  \n",
       "489   147.657492  N2PlusBX        58.0  \n",
       "490   504.455390  N2PlusBX        58.0  \n",
       "491    15.896841  N2PlusBX        60.0  \n",
       "492    39.792834  N2PlusBX        60.0  \n",
       "\n",
       "[493 rows x 11 columns]"
      ]
     },
     "execution_count": 51,
     "metadata": {},
     "output_type": "execute_result"
    }
   ],
   "source": [
    "frame_data[specname]"
   ]
  },
  {
   "cell_type": "markdown",
   "id": "b5117e05",
   "metadata": {},
   "source": [
    "# Population distribution"
   ]
  },
  {
   "cell_type": "code",
   "execution_count": 47,
   "id": "4cfa0bed",
   "metadata": {},
   "outputs": [],
   "source": [
    "specname=\"100\""
   ]
  },
  {
   "cell_type": "code",
   "execution_count": 48,
   "id": "5728577b",
   "metadata": {},
   "outputs": [],
   "source": [
    "probed_frame=frame_data[specname]"
   ]
  },
  {
   "cell_type": "code",
   "execution_count": 52,
   "id": "e46cb286",
   "metadata": {},
   "outputs": [],
   "source": [
    "probed_frame['E_v'] *= 100 * h * c / e\n",
    "probed_frame['E_J'] *= 100 * h * c / e\n",
    "\n",
    "probed_frame['degeneracy']=2*probed_frame['J']+1 #creates new column named degeneracy"
   ]
  },
  {
   "cell_type": "code",
   "execution_count": 54,
   "id": "add98366",
   "metadata": {},
   "outputs": [
    {
     "name": "stdout",
     "output_type": "stream",
     "text": [
      "[0 1 2 3 4]\n"
     ]
    }
   ],
   "source": [
    "vib_len=np.unique(probed_frame['v'])# how many vib states are considered in fit\n",
    "print(vib_len)"
   ]
  },
  {
   "cell_type": "code",
   "execution_count": 57,
   "id": "891f657d",
   "metadata": {},
   "outputs": [],
   "source": [
    "\"\"\"\n",
    "Creates x number fo plots where x represents number of fitted vibrational states defined by vib_len.\n",
    "In plots are distributions of populations against energies.\n",
    "\"\"\"\n",
    "vib_len=np.unique(probed_frame['v'])\n",
    "bands=np.unique(probed_frame['specie'])\n",
    "for vib in vib_len:\n",
    "    temp_vib_num=probed_frame.loc[probed_frame['v'] == vib]\n",
    "    for band in bands:\n",
    "        if band == 'N2CB':\n",
    "            band_num=temp_vib_num.loc[probed_frame['specie'] == band]\n",
    "            band_col='b'\n",
    "            plt.figure(vib)\n",
    "            plt.title('Vib band {}'.format(vib))\n",
    "            plt.plot(band_num['E_J']+band_num['E_v'],band_num.pops/(band_num.degeneracy),'{}.'.format(band_col))\n",
    "            plt.yscale('log')\n",
    "            plt.show()\n",
    "        if band == 'N2PlusBX':\n",
    "            band_num=temp_vib_num.loc[probed_frame['specie'] == band]\n",
    "            band_col='r'\n",
    "            plt.figure(vib)\n",
    "            plt.title('Vib band {}'.format(vib))\n",
    "            plt.plot(band_num['E_J']+band_num['E_v'],band_num.pops/(band_num.degeneracy),'{}.'.format(band_col))\n",
    "            plt.yscale('log')\n",
    "            plt.show()"
   ]
  },
  {
   "cell_type": "markdown",
   "id": "9a9faa0e",
   "metadata": {},
   "source": [
    "# Few notes"
   ]
  },
  {
   "cell_type": "code",
   "execution_count": null,
   "id": "14b3f792",
   "metadata": {},
   "outputs": [],
   "source": []
  }
 ],
 "metadata": {
  "kernelspec": {
   "display_name": "Python 3 (ipykernel)",
   "language": "python",
   "name": "python3"
  },
  "language_info": {
   "codemirror_mode": {
    "name": "ipython",
    "version": 3
   },
   "file_extension": ".py",
   "mimetype": "text/x-python",
   "name": "python",
   "nbconvert_exporter": "python",
   "pygments_lexer": "ipython3",
   "version": "3.8.2rc2"
  }
 },
 "nbformat": 4,
 "nbformat_minor": 5
}
